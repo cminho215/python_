{
 "cells": [
  {
   "cell_type": "markdown",
   "metadata": {},
   "source": [
    "## 유럽의 직장 환경(만족감, 효능감)에 따른 분류 \n",
    "- https://www.kaggle.com/guruarun93/european-working-conditions-survey-2016"
   ]
  },
  {
   "cell_type": "code",
   "execution_count": 1,
   "metadata": {},
   "outputs": [],
   "source": [
    "import numpy as np\n",
    "import pandas as pd\n",
    "import matplotlib.pyplot as plt\n",
    "%matplotlib inline"
   ]
  },
  {
   "cell_type": "code",
   "execution_count": 2,
   "metadata": {
    "scrolled": true
   },
   "outputs": [],
   "source": [
    "# 데이터 입력(7813x11, 11개의 attribute)\n",
    "df = pd.read_csv('./data/EWCS_2016.csv')\n",
    "\n",
    "x = df.iloc[:,2:].copy()  # Q2a(성별), Q2b(연령)는 제외\n",
    "\n",
    "for col in x.columns:\n",
    "    x.drop(x.index[x[col] == -999].tolist(), inplace = True)  # 미입력값이 있는 index 제거(7659x9)\n",
    "\n",
    "x1 = x.loc[:,\"Q87a\":\"Q87e\"]  # 만족감 설문 결과\n",
    "x2 = x.loc[:,\"Q90a\":\"Q90f\"]  # 효능감 설문 결과\n",
    "K = 4; N = x.shape[0]; C = 2  # 3개의 군집, 2차원으로 특징추출"
   ]
  },
  {
   "cell_type": "markdown",
   "metadata": {},
   "source": [
    "### 특징 추출(PCA)"
   ]
  },
  {
   "cell_type": "code",
   "execution_count": 3,
   "metadata": {},
   "outputs": [],
   "source": [
    "#PCA를 사용한 차원 감소를 통한 특징 추출\n",
    "from sklearn.decomposition import PCA\n",
    "\n",
    "pca = PCA(n_components=1)  # 1차원 벡터로 사영\n",
    "x1 =pca.fit_transform(x1)  # 만족감 특징 추출\n",
    "x2 =pca.fit_transform(x2)  # 효능감 특징 추출\n",
    "x_2d = np.hstack([x1, x2]) "
   ]
  },
  {
   "cell_type": "markdown",
   "metadata": {},
   "source": [
    "### K-means Clustering"
   ]
  },
  {
   "cell_type": "code",
   "execution_count": null,
   "metadata": {},
   "outputs": [
    {
     "data": {
      "text/plain": [
       "<matplotlib.collections.PathCollection at 0x14455c85c08>"
      ]
     },
     "execution_count": 4,
     "metadata": {},
     "output_type": "execute_result"
    }
   ],
   "source": [
    "# 임의의 대표 벡터 설정\n",
    "mean = np.array([x1.mean(), x2.mean()])\n",
    "std = np.array([x1.std(), x2.std()])\n",
    "centers = np.random.randn(K, C)*std+mean \n",
    "\n",
    "plt.scatter(x1, x2, c='black', s=7, label = 'Data')\n",
    "plt.scatter(centers[:,0], centers[:,1], marker='s', s = 30, c='m', label ='Center')"
   ]
  },
  {
   "cell_type": "code",
   "execution_count": null,
   "metadata": {},
   "outputs": [],
   "source": [
    "import copy\n",
    "\n",
    "# 초기화\n",
    "centers_old = np.zeros((K, C))   \n",
    "centers_new = copy.deepcopy(centers)    \n",
    "clusters = np.zeros(N)             \n",
    "distances = np.zeros((N,K))"
   ]
  },
  {
   "cell_type": "code",
   "execution_count": null,
   "metadata": {
    "colab": {
     "base_uri": "https://localhost:8080/",
     "height": 1000
    },
    "colab_type": "code",
    "executionInfo": {
     "elapsed": 1724,
     "status": "ok",
     "timestamp": 1587472898723,
     "user": {
      "displayName": "Hyeyoung Park",
      "photoUrl": "",
      "userId": "07651033612676824341"
     },
     "user_tz": -540
    },
    "id": "uU8F8eLtVBGn",
    "outputId": "22f5eb8b-9c9d-4294-b2fb-4cd6346a9d60"
   },
   "outputs": [],
   "source": [
    "# K-meaans 반복 수정\n",
    "MAXiter = 10  # 최대 반복 횟수\n",
    "color = ['red','blue','green','black']\n",
    "for iter in range(MAXiter):\n",
    "    for i in range(K):\n",
    "        distances[:,i] = np.linalg.norm(x_2d - centers_new[i], axis=1) # 중심 벡터와의 거리 계산\n",
    "\n",
    "    clusters = np.argmin(distances, axis=1)  # 가장 가까운 군집에 포함\n",
    "    centers_old = copy.deepcopy(centers_new)  # 중심 벡터 최신화 \n",
    "\n",
    "    for i in range(K):\n",
    "        centers_new[i] = np.mean(x_2d[clusters==i], axis=0)  # 군집에 포함된 데이터들의 평균 벡터를 사용하여 수정\n",
    "        plt.scatter(x_2d[clusters==i,0], x_2d[clusters==i,1], s=7, c=color[i])\n",
    "        plt.scatter(centers_new[i,0], centers_new[i,1], marker='s', s=50, c='m')\n",
    "\n",
    "    plt.title('K-means (iter={})'.format(iter))\n",
    "    plt.xlabel('X1'); plt.ylabel('Y1'); \n",
    "    plt.show()\n",
    "    print('Iteration = {}'.format(iter))\n",
    "    print(centers_new)\n"
   ]
  },
  {
   "cell_type": "code",
   "execution_count": null,
   "metadata": {},
   "outputs": [],
   "source": [
    "# 군집에 포함된 데이터 수 출력\n",
    "unique, counts = np.unique(clusters, return_counts=True)\n",
    "\n",
    "print(np.asarray((unique, counts)).T)"
   ]
  }
 ],
 "metadata": {
  "kernelspec": {
   "display_name": "Python 3",
   "language": "python",
   "name": "python3"
  },
  "language_info": {
   "codemirror_mode": {
    "name": "ipython",
    "version": 3
   },
   "file_extension": ".py",
   "mimetype": "text/x-python",
   "name": "python",
   "nbconvert_exporter": "python",
   "pygments_lexer": "ipython3",
   "version": "3.7.4"
  }
 },
 "nbformat": 4,
 "nbformat_minor": 2
}
