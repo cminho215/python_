{
  "nbformat": 4,
  "nbformat_minor": 0,
  "metadata": {
    "colab": {
      "name": "PCA.ipynb",
      "provenance": [],
      "collapsed_sections": [],
      "mount_file_id": "1VvQ2bqHmtTDRnOwk5rvaSce4SzH_4YfG",
      "authorship_tag": "ABX9TyP/tQdjNuNk7AXbcgE+WN4F",
      "include_colab_link": true
    },
    "kernelspec": {
      "name": "python3",
      "display_name": "Python 3"
    }
  },
  "cells": [
    {
      "cell_type": "markdown",
      "metadata": {
        "id": "view-in-github",
        "colab_type": "text"
      },
      "source": [
        "<a href=\"https://colab.research.google.com/github/cminho215/python_/blob/main/PCA.ipynb\" target=\"_parent\"><img src=\"https://colab.research.google.com/assets/colab-badge.svg\" alt=\"Open In Colab\"/></a>"
      ]
    },
    {
      "cell_type": "code",
      "metadata": {
        "id": "T8x1-y0BfnXq"
      },
      "source": [
        "import numpy as np\r\n",
        "import pandas as pd\r\n",
        "import matplotlib.pyplot as plt\r\n",
        "from sklearn.preprocessing import StandardScaler\r\n",
        "%matplotlib inline"
      ],
      "execution_count": null,
      "outputs": []
    },
    {
      "cell_type": "code",
      "metadata": {
        "colab": {
          "base_uri": "https://localhost:8080/",
          "height": 316
        },
        "id": "i5mcZqWVf37o",
        "outputId": "eac0353a-16f4-4403-8ef9-35de5b6154bb"
      },
      "source": [
        "# https://archive.ics.uci.edu/ml/machine-learning-databases/iris/\r\n",
        "df = pd.read_csv('/content/drive/MyDrive/Colab Notebooks/data/iris.csv', sep=',')\r\n",
        "\r\n",
        "x = np.array(df.loc[:, [\"sepal.length\", \"petal.length\"]])\r\n",
        "x = StandardScaler().fit_transform(x)  # 학습할 데이터 정규화\r\n",
        "\r\n",
        "n_features = x.shape[1]\r\n",
        "plt.scatter(x = x.T[0], y = x.T[1], s = 10)\r\n",
        "plt.title('Distribution')\r\n",
        "plt.axis('equal');\r\n",
        "\r\n",
        "np.cov(x.T)"
      ],
      "execution_count": null,
      "outputs": [
        {
          "output_type": "execute_result",
          "data": {
            "text/plain": [
              "array([[1.00671141, 0.87760447],\n",
              "       [0.87760447, 1.00671141]])"
            ]
          },
          "metadata": {
            "tags": []
          },
          "execution_count": 57
        },
        {
          "output_type": "display_data",
          "data": {
            "image/png": "[encoded data removed]",
            "text/plain": [
              "<Figure size 432x288 with 1 Axes>"
            ]
          },
          "metadata": {
            "tags": [],
            "needs_background": "light"
          }
        }
      ]
    },
    {
      "cell_type": "code",
      "metadata": {
        "id": "eQFcdw3Bf8Iw",
        "colab": {
          "base_uri": "https://localhost:8080/",
          "height": 281
        },
        "outputId": "72187916-47b1-47c1-9a9a-8dc87d1249fe"
      },
      "source": [
        "\r\n",
        "cov = np.cov(x.T)\r\n",
        "eValues, eVectors = np.linalg.eig(cov)\r\n",
        "\r\n",
        "plt.scatter(x = x.T[0], y = x.T[1], s = 10)\r\n",
        "\r\n",
        "for eValue, eVector in zip(eValues, eVectors.T):\r\n",
        "    plt.plot([x.T[0].mean(), x.T[0].mean()+2*np.sqrt(eValue)*eVector[0]],\r\n",
        "             [x.T[1].mean(), x.T[1].mean()+2*np.sqrt(eValue)*eVector[1]], 'k-', lw=2)\r\n",
        "    \r\n",
        "plt.title('EigenVectors')\r\n",
        "plt.axis('equal');"
      ],
      "execution_count": null,
      "outputs": [
        {
          "output_type": "display_data",
          "data": {
            "image/png": "[encoded data removed]",
            "text/plain": [
              "<Figure size 432x288 with 1 Axes>"
            ]
          },
          "metadata": {
            "tags": [],
            "needs_background": "light"
          }
        }
      ]
    },
    {
      "cell_type": "code",
      "metadata": {
        "colab": {
          "base_uri": "https://localhost:8080/"
        },
        "id": "pJ1uiPZVksOO",
        "outputId": "14b1c359-f5c0-4ea0-e1c0-b0941690ce24"
      },
      "source": [
        "# covariance matrix를 항등행렬로 변환 \r\n",
        "Rot = np.linalg.inv(eVectors)\r\n",
        "Scale = np.linalg.inv(np.sqrt(np.diag(eValues)))\r\n",
        "T = np.matmul(Scale, Rot)\r\n",
        "\r\n",
        "tx = np.matmul(T, x.T).T\r\n",
        "np.cov(tx.T)"
      ],
      "execution_count": null,
      "outputs": [
        {
          "output_type": "execute_result",
          "data": {
            "text/plain": [
              "array([[1.00000000e+00, 1.83333085e-15],\n",
              "       [1.83333085e-15, 1.00000000e+00]])"
            ]
          },
          "metadata": {
            "tags": []
          },
          "execution_count": 59
        }
      ]
    },
    {
      "cell_type": "code",
      "metadata": {
        "colab": {
          "base_uri": "https://localhost:8080/",
          "height": 281
        },
        "id": "nnLe8FKuk28N",
        "outputId": "e96e1de8-4e7b-4c48-e7b8-c51f53a9cdfe"
      },
      "source": [
        "#PCA\r\n",
        "\r\n",
        "n_components = 1\r\n",
        "eValues, eVectors = np.linalg.eig(cov)\r\n",
        "\r\n",
        "for n in range(n_components):\r\n",
        "    for i in range(n_features-1, n, -1):\r\n",
        "        if(eValues[i-1] < eValues[i]):\r\n",
        "            tmp = eValues[i]\r\n",
        "            eValues[i] = eValues[i-1]\r\n",
        "            eValues[i-1] = tmp\r\n",
        "\r\n",
        "            tmp2 = np.vstack((eVectors.T[:i-1], eVectors.T[i]))\r\n",
        "            tmp3 = np.vstack((eVectors.T[i-1], eVectors.T[i+1:]))            \r\n",
        "            eVectors = np.vstack((tmp2, tmp3)).T\r\n",
        "            \r\n",
        "            \r\n",
        "fit = eVectors.T[:n_components].T\r\n",
        "fit_x = np.matmul(fit.T, x.T).T\r\n",
        "g_x = np.matmul(fit_x, fit.T)\r\n",
        "\r\n",
        "plt.scatter(x = x.T[0], y = x.T[1], s = 10)\r\n",
        "    \r\n",
        "for n in range(n_components):\r\n",
        "    plt.plot([x.T[0].mean()-2*np.sqrt(eValues[n])*eVectors.T[n][0], x.T[0].mean()+2*np.sqrt(eValues[n])*eVectors.T[n][0]],\r\n",
        "             [x.T[1].mean()-2*np.sqrt(eValues[n])*eVectors.T[n][1], x.T[1].mean()+2*np.sqrt(eValues[n])*eVectors.T[n][1]], 'k', lw=1)\r\n",
        "\r\n",
        "plt.scatter(x = g_x.T[0], y =g_x.T[1], s = 10)\r\n",
        "    \r\n",
        "plt.title('EigenVectors')\r\n",
        "plt.axis('equal');"
      ],
      "execution_count": null,
      "outputs": [
        {
          "output_type": "display_data",
          "data": {
            "image/png": "[encoded data removed]",
            "text/plain": [
              "<Figure size 432x288 with 1 Axes>"
            ]
          },
          "metadata": {
            "tags": [],
            "needs_background": "light"
          }
        }
      ]
    },
    {
      "cell_type": "code",
      "metadata": {
        "id": "a-JteU1d9PBY"
      },
      "source": [
        "fit_x"
      ],
      "execution_count": null,
      "outputs": []
    },
    {
      "cell_type": "code",
      "metadata": {
        "id": "kbTXN9JPl1Z2",
        "colab": {
          "base_uri": "https://localhost:8080/"
        },
        "outputId": "1a9ed16f-a60c-4b7a-fe75-f265712ceef6"
      },
      "source": [
        "eValues[0]/eValues.sum()"
      ],
      "execution_count": null,
      "outputs": [
        {
          "output_type": "execute_result",
          "data": {
            "text/plain": [
              "0.9358768879432915"
            ]
          },
          "metadata": {
            "tags": []
          },
          "execution_count": 62
        }
      ]
    }
  ]
}