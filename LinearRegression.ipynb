{
 "cells": [
  {
   "cell_type": "markdown",
   "metadata": {},
   "source": [
    "# 행복 지수 예측을 위한 다중 선형 회귀  \n",
    "- https://www.kaggle.com/unsdsn/world-happiness"
   ]
  },
  {
   "cell_type": "code",
   "execution_count": 1,
   "metadata": {},
   "outputs": [],
   "source": [
    "import numpy as np\n",
    "import pandas as pd\n",
    "import matplotlib.pyplot as plt\n",
    "import seaborn as sns\n",
    "%matplotlib inline"
   ]
  },
  {
   "cell_type": "code",
   "execution_count": 2,
   "metadata": {
    "scrolled": true
   },
   "outputs": [
    {
     "data": {
      "text/html": [
       "<div>\n",
       "<style scoped>\n",
       "    .dataframe tbody tr th:only-of-type {\n",
       "        vertical-align: middle;\n",
       "    }\n",
       "\n",
       "    .dataframe tbody tr th {\n",
       "        vertical-align: top;\n",
       "    }\n",
       "\n",
       "    .dataframe thead th {\n",
       "        text-align: right;\n",
       "    }\n",
       "</style>\n",
       "<table border=\"1\" class=\"dataframe\">\n",
       "  <thead>\n",
       "    <tr style=\"text-align: right;\">\n",
       "      <th></th>\n",
       "      <th>Overall rank</th>\n",
       "      <th>Country or region</th>\n",
       "      <th>Score</th>\n",
       "      <th>GDP per capita</th>\n",
       "      <th>Social support</th>\n",
       "      <th>Healthy life expectancy</th>\n",
       "      <th>Freedom to make life choices</th>\n",
       "      <th>Generosity</th>\n",
       "      <th>Perceptions of corruption</th>\n",
       "    </tr>\n",
       "  </thead>\n",
       "  <tbody>\n",
       "    <tr>\n",
       "      <td>0</td>\n",
       "      <td>1</td>\n",
       "      <td>Finland</td>\n",
       "      <td>7.769</td>\n",
       "      <td>1.340</td>\n",
       "      <td>1.587</td>\n",
       "      <td>0.986</td>\n",
       "      <td>0.596</td>\n",
       "      <td>0.153</td>\n",
       "      <td>0.393</td>\n",
       "    </tr>\n",
       "    <tr>\n",
       "      <td>1</td>\n",
       "      <td>2</td>\n",
       "      <td>Denmark</td>\n",
       "      <td>7.600</td>\n",
       "      <td>1.383</td>\n",
       "      <td>1.573</td>\n",
       "      <td>0.996</td>\n",
       "      <td>0.592</td>\n",
       "      <td>0.252</td>\n",
       "      <td>0.410</td>\n",
       "    </tr>\n",
       "    <tr>\n",
       "      <td>2</td>\n",
       "      <td>3</td>\n",
       "      <td>Norway</td>\n",
       "      <td>7.554</td>\n",
       "      <td>1.488</td>\n",
       "      <td>1.582</td>\n",
       "      <td>1.028</td>\n",
       "      <td>0.603</td>\n",
       "      <td>0.271</td>\n",
       "      <td>0.341</td>\n",
       "    </tr>\n",
       "    <tr>\n",
       "      <td>3</td>\n",
       "      <td>4</td>\n",
       "      <td>Iceland</td>\n",
       "      <td>7.494</td>\n",
       "      <td>1.380</td>\n",
       "      <td>1.624</td>\n",
       "      <td>1.026</td>\n",
       "      <td>0.591</td>\n",
       "      <td>0.354</td>\n",
       "      <td>0.118</td>\n",
       "    </tr>\n",
       "    <tr>\n",
       "      <td>4</td>\n",
       "      <td>5</td>\n",
       "      <td>Netherlands</td>\n",
       "      <td>7.488</td>\n",
       "      <td>1.396</td>\n",
       "      <td>1.522</td>\n",
       "      <td>0.999</td>\n",
       "      <td>0.557</td>\n",
       "      <td>0.322</td>\n",
       "      <td>0.298</td>\n",
       "    </tr>\n",
       "  </tbody>\n",
       "</table>\n",
       "</div>"
      ],
      "text/plain": [
       "   Overall rank Country or region  Score  GDP per capita  Social support  \\\n",
       "0             1           Finland  7.769           1.340           1.587   \n",
       "1             2           Denmark  7.600           1.383           1.573   \n",
       "2             3            Norway  7.554           1.488           1.582   \n",
       "3             4           Iceland  7.494           1.380           1.624   \n",
       "4             5       Netherlands  7.488           1.396           1.522   \n",
       "\n",
       "   Healthy life expectancy  Freedom to make life choices  Generosity  \\\n",
       "0                    0.986                         0.596       0.153   \n",
       "1                    0.996                         0.592       0.252   \n",
       "2                    1.028                         0.603       0.271   \n",
       "3                    1.026                         0.591       0.354   \n",
       "4                    0.999                         0.557       0.322   \n",
       "\n",
       "   Perceptions of corruption  \n",
       "0                      0.393  \n",
       "1                      0.410  \n",
       "2                      0.341  \n",
       "3                      0.118  \n",
       "4                      0.298  "
      ]
     },
     "execution_count": 2,
     "metadata": {},
     "output_type": "execute_result"
    }
   ],
   "source": [
    "# 데이터 입력(156x9)\n",
    "df = pd.read_csv('./data/2019.csv')\n",
    "df.head()"
   ]
  },
  {
   "cell_type": "code",
   "execution_count": 3,
   "metadata": {},
   "outputs": [
    {
     "data": {
      "image/png": "[encoded data removed]",
      "text/plain": [
       "<Figure size 432x288 with 1 Axes>"
      ]
     },
     "metadata": {
      "needs_background": "light"
     },
     "output_type": "display_data"
    },
    {
     "data": {
      "image/png": "[encoded data removed]",
      "text/plain": [
       "<Figure size 432x288 with 1 Axes>"
      ]
     },
     "metadata": {
      "needs_background": "light"
     },
     "output_type": "display_data"
    },
    {
     "data": {
      "image/png": "[encoded data removed]",
      "text/plain": [
       "<Figure size 432x288 with 1 Axes>"
      ]
     },
     "metadata": {
      "needs_background": "light"
     },
     "output_type": "display_data"
    },
    {
     "data": {
      "image/png": "[encoded data removed]",
      "text/plain": [
       "<Figure size 432x288 with 1 Axes>"
      ]
     },
     "metadata": {
      "needs_background": "light"
     },
     "output_type": "display_data"
    },
    {
     "data": {
      "image/png": "[encoded data removed]",
      "text/plain": [
       "<Figure size 432x288 with 1 Axes>"
      ]
     },
     "metadata": {
      "needs_background": "light"
     },
     "output_type": "display_data"
    },
    {
     "data": {
      "image/png": "[encoded data removed]",
      "text/plain": [
       "<Figure size 432x288 with 1 Axes>"
      ]
     },
     "metadata": {
      "needs_background": "light"
     },
     "output_type": "display_data"
    }
   ],
   "source": [
    "# 변인간 선형관계 검증\n",
    "plt.title('GDP per capital')\n",
    "plt.scatter(df[\"GDP per capita\"], df[\"Score\"])\n",
    "plt.show()\n",
    "\n",
    "plt.title('Social support')\n",
    "plt.scatter(df[\"Social support\"], df[\"Score\"])\n",
    "plt.show()\n",
    "\n",
    "plt.title('Healthy life expectancy')\n",
    "plt.scatter(df[\"Healthy life expectancy\"], df[\"Score\"])\n",
    "plt.show()\n",
    "\n",
    "plt.title('Freedom to make life choices')\n",
    "plt.scatter(df[\"Freedom to make life choices\"], df[\"Score\"])\n",
    "plt.show()\n",
    "\n",
    "plt.title('Generosity')\n",
    "plt.scatter(df[\"Generosity\"], df[\"Score\"])\n",
    "plt.show()\n",
    "\n",
    "plt.title(\"Perceptions of corruption\")\n",
    "plt.scatter(df[\"Perceptions of corruption\"], df[\"Score\"])\n",
    "plt.show()\n"
   ]
  },
  {
   "cell_type": "code",
   "execution_count": 4,
   "metadata": {},
   "outputs": [
    {
     "data": {
      "text/html": [
       "<div>\n",
       "<style scoped>\n",
       "    .dataframe tbody tr th:only-of-type {\n",
       "        vertical-align: middle;\n",
       "    }\n",
       "\n",
       "    .dataframe tbody tr th {\n",
       "        vertical-align: top;\n",
       "    }\n",
       "\n",
       "    .dataframe thead th {\n",
       "        text-align: right;\n",
       "    }\n",
       "</style>\n",
       "<table border=\"1\" class=\"dataframe\">\n",
       "  <thead>\n",
       "    <tr style=\"text-align: right;\">\n",
       "      <th></th>\n",
       "      <th>Overall rank</th>\n",
       "      <th>Score</th>\n",
       "      <th>GDP per capita</th>\n",
       "      <th>Social support</th>\n",
       "      <th>Healthy life expectancy</th>\n",
       "      <th>Freedom to make life choices</th>\n",
       "      <th>Generosity</th>\n",
       "      <th>Perceptions of corruption</th>\n",
       "    </tr>\n",
       "  </thead>\n",
       "  <tbody>\n",
       "    <tr>\n",
       "      <td>Overall rank</td>\n",
       "      <td>1.000000</td>\n",
       "      <td>-0.989096</td>\n",
       "      <td>-0.801947</td>\n",
       "      <td>-0.767465</td>\n",
       "      <td>-0.787411</td>\n",
       "      <td>-0.546606</td>\n",
       "      <td>-0.047993</td>\n",
       "      <td>-0.351959</td>\n",
       "    </tr>\n",
       "    <tr>\n",
       "      <td>Score</td>\n",
       "      <td>-0.989096</td>\n",
       "      <td>1.000000</td>\n",
       "      <td>0.793883</td>\n",
       "      <td>0.777058</td>\n",
       "      <td>0.779883</td>\n",
       "      <td>0.566742</td>\n",
       "      <td>0.075824</td>\n",
       "      <td>0.385613</td>\n",
       "    </tr>\n",
       "    <tr>\n",
       "      <td>GDP per capita</td>\n",
       "      <td>-0.801947</td>\n",
       "      <td>0.793883</td>\n",
       "      <td>1.000000</td>\n",
       "      <td>0.754906</td>\n",
       "      <td>0.835462</td>\n",
       "      <td>0.379079</td>\n",
       "      <td>-0.079662</td>\n",
       "      <td>0.298920</td>\n",
       "    </tr>\n",
       "    <tr>\n",
       "      <td>Social support</td>\n",
       "      <td>-0.767465</td>\n",
       "      <td>0.777058</td>\n",
       "      <td>0.754906</td>\n",
       "      <td>1.000000</td>\n",
       "      <td>0.719009</td>\n",
       "      <td>0.447333</td>\n",
       "      <td>-0.048126</td>\n",
       "      <td>0.181899</td>\n",
       "    </tr>\n",
       "    <tr>\n",
       "      <td>Healthy life expectancy</td>\n",
       "      <td>-0.787411</td>\n",
       "      <td>0.779883</td>\n",
       "      <td>0.835462</td>\n",
       "      <td>0.719009</td>\n",
       "      <td>1.000000</td>\n",
       "      <td>0.390395</td>\n",
       "      <td>-0.029511</td>\n",
       "      <td>0.295283</td>\n",
       "    </tr>\n",
       "    <tr>\n",
       "      <td>Freedom to make life choices</td>\n",
       "      <td>-0.546606</td>\n",
       "      <td>0.566742</td>\n",
       "      <td>0.379079</td>\n",
       "      <td>0.447333</td>\n",
       "      <td>0.390395</td>\n",
       "      <td>1.000000</td>\n",
       "      <td>0.269742</td>\n",
       "      <td>0.438843</td>\n",
       "    </tr>\n",
       "    <tr>\n",
       "      <td>Generosity</td>\n",
       "      <td>-0.047993</td>\n",
       "      <td>0.075824</td>\n",
       "      <td>-0.079662</td>\n",
       "      <td>-0.048126</td>\n",
       "      <td>-0.029511</td>\n",
       "      <td>0.269742</td>\n",
       "      <td>1.000000</td>\n",
       "      <td>0.326538</td>\n",
       "    </tr>\n",
       "    <tr>\n",
       "      <td>Perceptions of corruption</td>\n",
       "      <td>-0.351959</td>\n",
       "      <td>0.385613</td>\n",
       "      <td>0.298920</td>\n",
       "      <td>0.181899</td>\n",
       "      <td>0.295283</td>\n",
       "      <td>0.438843</td>\n",
       "      <td>0.326538</td>\n",
       "      <td>1.000000</td>\n",
       "    </tr>\n",
       "  </tbody>\n",
       "</table>\n",
       "</div>"
      ],
      "text/plain": [
       "                              Overall rank     Score  GDP per capita  \\\n",
       "Overall rank                      1.000000 -0.989096       -0.801947   \n",
       "Score                            -0.989096  1.000000        0.793883   \n",
       "GDP per capita                   -0.801947  0.793883        1.000000   \n",
       "Social support                   -0.767465  0.777058        0.754906   \n",
       "Healthy life expectancy          -0.787411  0.779883        0.835462   \n",
       "Freedom to make life choices     -0.546606  0.566742        0.379079   \n",
       "Generosity                       -0.047993  0.075824       -0.079662   \n",
       "Perceptions of corruption        -0.351959  0.385613        0.298920   \n",
       "\n",
       "                              Social support  Healthy life expectancy  \\\n",
       "Overall rank                       -0.767465                -0.787411   \n",
       "Score                               0.777058                 0.779883   \n",
       "GDP per capita                      0.754906                 0.835462   \n",
       "Social support                      1.000000                 0.719009   \n",
       "Healthy life expectancy             0.719009                 1.000000   \n",
       "Freedom to make life choices        0.447333                 0.390395   \n",
       "Generosity                         -0.048126                -0.029511   \n",
       "Perceptions of corruption           0.181899                 0.295283   \n",
       "\n",
       "                              Freedom to make life choices  Generosity  \\\n",
       "Overall rank                                     -0.546606   -0.047993   \n",
       "Score                                             0.566742    0.075824   \n",
       "GDP per capita                                    0.379079   -0.079662   \n",
       "Social support                                    0.447333   -0.048126   \n",
       "Healthy life expectancy                           0.390395   -0.029511   \n",
       "Freedom to make life choices                      1.000000    0.269742   \n",
       "Generosity                                        0.269742    1.000000   \n",
       "Perceptions of corruption                         0.438843    0.326538   \n",
       "\n",
       "                              Perceptions of corruption  \n",
       "Overall rank                                  -0.351959  \n",
       "Score                                          0.385613  \n",
       "GDP per capita                                 0.298920  \n",
       "Social support                                 0.181899  \n",
       "Healthy life expectancy                        0.295283  \n",
       "Freedom to make life choices                   0.438843  \n",
       "Generosity                                     0.326538  \n",
       "Perceptions of corruption                      1.000000  "
      ]
     },
     "execution_count": 4,
     "metadata": {},
     "output_type": "execute_result"
    }
   ],
   "source": [
    "df.corr()  # 독립 변인 상관"
   ]
  },
  {
   "cell_type": "code",
   "execution_count": 5,
   "metadata": {},
   "outputs": [],
   "source": [
    "# 입력 속성과 결과치 구분\n",
    "x = np.array(df.drop([\"Overall rank\", \"Score\", \"Generosity\", \"Country or region\"], axis = 1).values)  # (156x5)\n",
    "y = df.loc[:, \"Score\"].values   # (156x1)"
   ]
  },
  {
   "cell_type": "markdown",
   "metadata": {},
   "source": [
    "### Linear Regression"
   ]
  },
  {
   "cell_type": "code",
   "execution_count": 6,
   "metadata": {},
   "outputs": [],
   "source": [
    "ones = np.ones((x.shape[0], 1))  # 1로 구성된 열 벡터\n",
    "\n",
    "X=np.column_stack((x, ones))  # 행렬 계산을 위해 ones 행렬 결합"
   ]
  },
  {
   "cell_type": "code",
   "execution_count": 7,
   "metadata": {
    "colab": {
     "base_uri": "https://localhost:8080/",
     "height": 318
    },
    "colab_type": "code",
    "executionInfo": {
     "elapsed": 630,
     "status": "ok",
     "timestamp": 1587484746214,
     "user": {
      "displayName": "Hyeyoung Park",
      "photoUrl": "",
      "userId": "07651033612676824341"
     },
     "user_tz": -540
    },
    "id": "uU8F8eLtVBGn",
    "outputId": "9e5c12c4-ab56-4ad8-87b4-2484c0230d55"
   },
   "outputs": [
    {
     "name": "stdout",
     "output_type": "stream",
     "text": [
      "0.041881753569791506\n"
     ]
    }
   ],
   "source": [
    "w = np.matmul(np.matmul(np.linalg.inv(np.matmul(X.T,X)),X.T),y)  # 행렬 계산\n",
    "\n",
    "m = w[:5]; b=w[5]  # m = 속성별 기울기, b = 절편\n",
    "predict_y = np.zeros(y.shape)  \n",
    "\n",
    "count=0\n",
    "for tmp_x in x:\n",
    "    predict_y[count] = np.sum(tmp_x*m)+b  # predict_y = 계산된 기울기와 절편을 통한 예측치 \n",
    "    count = count +1\n",
    "\n",
    "RMS2 = np.linalg.norm(predict_y - y)/y.shape[0]  # 예측치와 실제 점수의 거리(벡터 차의 제곱합)\n",
    "print(RMS2)"
   ]
  },
  {
   "cell_type": "code",
   "execution_count": 8,
   "metadata": {},
   "outputs": [
    {
     "data": {
      "image/png": "[encoded data removed]",
      "text/plain": [
       "<Figure size 432x288 with 1 Axes>"
      ]
     },
     "metadata": {
      "needs_background": "light"
     },
     "output_type": "display_data"
    }
   ],
   "source": [
    "# 모델의 효과를 확인하기 위해 구현\n",
    "plt.scatter(df[\"Overall rank\"], y)  # 2차원 그래프로 표현하기 위해 순위 사용\n",
    "plt.scatter(df[\"Overall rank\"], predict_y)  \n",
    "plt.show()"
   ]
  },
  {
   "cell_type": "code",
   "execution_count": 9,
   "metadata": {},
   "outputs": [
    {
     "data": {
      "text/plain": [
       "array([0.74545268, 1.1180315 , 1.08401615, 1.53400938, 1.11755314,\n",
       "       1.86887247])"
      ]
     },
     "execution_count": 9,
     "metadata": {},
     "output_type": "execute_result"
    }
   ],
   "source": [
    "w  # 속성별 기울기와 절편"
   ]
  }
 ],
 "metadata": {
  "kernelspec": {
   "display_name": "Python 3",
   "language": "python",
   "name": "python3"
  },
  "language_info": {
   "codemirror_mode": {
    "name": "ipython",
    "version": 3
   },
   "file_extension": ".py",
   "mimetype": "text/x-python",
   "name": "python",
   "nbconvert_exporter": "python",
   "pygments_lexer": "ipython3",
   "version": "3.7.4"
  }
 },
 "nbformat": 4,
 "nbformat_minor": 2
}
